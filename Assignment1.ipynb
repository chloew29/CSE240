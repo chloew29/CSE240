{
 "cells": [
  {
   "cell_type": "markdown",
   "metadata": {
    "id": "GWCPCDvGW_cm"
   },
   "source": [
    "# Assignment 1\n",
    "\n",
    "\n",
    "You must submit your notebook by running `python3 -m autograder.cli.submission.submit Assignment1.ipynb` from your local repository.\n",
    "\n",
    "To write legible answers you will need to be familiar with both [Markdown](https://github.com/adam-p/markdown-here/wiki/Markdown-Cheatsheet) and [Latex](https://www.latex-tutorial.com/tutorials/amsmath/)\n",
    "\n",
    "Before you turn this problem in, make sure everything runs as expected. To do so, restart the kernel and run all cells (in the menubar, select Runtime→→Restart and run all).\n",
    "\n",
    "#### Show your work!\n",
    "Whenever you are asked to find the solution to a problem, be sure to also **show how you arrived** at your answer.\n",
    "\n",
    "Make sure you fill in any place that says \"YOUR CODE HERE\" or \"YOUR ANSWERS HERE\", as well as your name below:\n"
   ]
  },
  {
   "cell_type": "markdown",
   "metadata": {
    "id": "Hc-OUgRxWIPM"
   },
   "source": [
    "## Q1\n",
    "\n",
    "![figure](https://docs.google.com/drawings/d/e/2PACX-1vR3cNeZWfHNbPXRGyZrKazhI2WNM9wroJoAsshbD7LzwEBd4k0W_zu-T30_O_4iHC2qpKRxCRBA1IjV/pub?w=480&h=320)\n",
    "\n",
    "Which solution would the following search algorithms find to move from node *Start* to node *Goal* if run the algorithm on the search graph above? Break any ties alphabetically. Please give each answer in a form similar to this example: `[start, 'a', 'd', goal]`\n",
    "\n",
    "a. Breadth-First Search\n",
    "\n",
    "b. Depth-First Search\n",
    "\n",
    "c. Uniform Cost Search\n",
    "\n",
    "Explain by drawing an equivalent search tree for each of them. Draw the search trees graphically. A good way to do this is through [Google Drawings](https://docs.google.com/drawings)\n",
    "\n"
   ]
  },
  {
   "cell_type": "code",
   "execution_count": 17,
   "metadata": {},
   "outputs": [],
   "source": [
    "# YOUR ANSWERS HERE\n",
    "def question1():\n",
    "    \"\"\"\n",
    "    Description:\n",
    "    a: BFS:\n",
    "    BFS explore nodes level by level, so it explore all the child of a node before \n",
    "    move to next level. \n",
    "    Therefore start node will expand to A and D.\n",
    "    A expand to B\n",
    "    D expand to Goal\n",
    "    B expand to C and Goal\n",
    "    so it will find the path Start -> D -> Goal\n",
    "\n",
    "    b: DFS:\n",
    "    DFS explore as deep as possible from a branch before going back to another child\n",
    "    From start it go to A \n",
    "    from A go to B\n",
    "    B go to C\n",
    "    C go to goal\n",
    "\n",
    "    c: UCS:\n",
    "    UCS expand the node with the lowest code \n",
    "    start expand to A and D , but A have lower cost, so A\n",
    "    A expand to B cost = 4\n",
    "    B expand to C (cost 5) and Goal(cost 5), but c is alphabetically first \n",
    "    C expand to Goal\n",
    "    \"\"\"\n",
    "    start = 'Start'\n",
    "    goal = 'Goal'\n",
    "    \n",
    "    a = [start, 'd', goal]\n",
    "    b = [start, 'a', 'b', 'c', goal]\n",
    "    c = [start, 'a', 'b', goal]\n",
    "    \n",
    "    return a, b, c"
   ]
  },
  {
   "cell_type": "markdown",
   "metadata": {
    "id": "2cCZFudXW_cp"
   },
   "source": [
    "## Q2\n",
    "Answer the following questions about the search problem shown in the figure below. Break any ties alphabetically. For the questions that ask for a path, please give your answers in a form similar to this example: `[start, 'a', 'd', goal]`. For questions `e` and `f`, please return either `True` or `False`.\n",
    "\n",
    "Start − a − d − Goal\n",
    "\n",
    "![figure](https://docs.google.com/drawings/d/e/2PACX-1vS4nUoOVGzXNZTHZLsY6wZ6VyjtPlA4mhcvWs-6mgwaeDwoMftqbYyytgBVmgOnqLoUGZbRt8cuQNfA/pub?w=640&h=480)\n",
    "\n",
    "What path would be returned for this search problem using each of the following graph search algorithms?\n",
    "\n",
    "a. Breadth-First Search\n",
    "\n",
    "b. Uniform Cost Search\n",
    "\n",
    "c. Depth-First Search\n",
    "\n",
    "d. A* Search (using an appropriate heuristic function). Explain what heuristc function you used.\n",
    "\n",
    "\n",
    "\n",
    "Consider the heuristics for this problem shown in the table below.\n",
    "\n",
    "|     State     |     h1     |     h2        |\n",
    "|---------------|------------|---------------|\n",
    "|     start     |     5      |     4         |\n",
    "|     a         |     3      |     2         |\n",
    "|     b         |     6      |     6         |\n",
    "|     c         |     2      |     1         |\n",
    "|     d         |     3      |     3         |\n",
    "|     goal      |     0      |     0         |\n",
    "\n",
    "\n",
    "e. Is h1 consistent?\n",
    "\n",
    "f. Is h2 consistent?"
   ]
  },
  {
   "cell_type": "code",
   "execution_count": 24,
   "metadata": {},
   "outputs": [],
   "source": [
    "# YOUR ANSWERS HERE\n",
    "def question2():\n",
    "    \"\"\"\n",
    "    Description:\n",
    "    [Enter a description of your reasoning for each of a through f here.]\n",
    "    a BFS explores nodes level by level, visting all nodes at the current \n",
    "    depth before moving on the next depth level.\n",
    "    Start expand to A and Goal.\n",
    "    A expand to B and C\n",
    "    Goal is already reahced \n",
    "    so the path would be Start -> Goal\n",
    "    \n",
    "    b UCS select node with lowest path cost, with minimum cost from start to goal. \n",
    "    Start expand A (cost 1) Goal (cost 12) , so choose A\n",
    "    A expand C (cost 2), B (cost 4), so choose C\n",
    "    C expand to goal (cost 4)\n",
    "    Start -> A -> C -> Goal \n",
    "\n",
    "    c DFS explore as far as possible at a branch before backtracking, breaking ties \n",
    "    alphabetically\n",
    "    Start expand to A\n",
    "    A expand to B\n",
    "    B expand to D\n",
    "    D expand to Goal\n",
    "    Start -> A -> B -> D -> Goal\n",
    "\n",
    "    d A* Search expand node base on the cumulative cost plus the heuristic value\n",
    "    Estimate the cost from a node to the goal based on Euclidean distance bettwen \n",
    "    the two nodes. \n",
    "    Start f(Start) = g(Start) + h(Start) = 0+4=4\n",
    "    Start -> A (g(A) = 1, h(A) = 2) Start -> Goal (g(Goal) = 12 , h(Goal) = 0)\n",
    "    since Start -> A (g(A) = 1, h(A) = 2) = f(A) = 3, has lower f(n)\n",
    "    A(f=3)-> B (g(B) = 4, h(B) = 6)  f(B) = 10 , A-> C g(C) = 2, h(c) = 1 ,f(C)= 3 ,\n",
    "    C(f=3)-> D g(D) = 3, h(D)= 3, f(D) = 6,  C-> Goal g(Goal) = 4, h(Goal) 0, f(Goal) = 4)\n",
    "\n",
    "    e h1 consistency:\n",
    "    \n",
    "\n",
    "\n",
    "    \"\"\"\n",
    "    start = 'Start'\n",
    "    goal = 'Goal'\n",
    "       \n",
    "    a = [start, goal]\n",
    "    b = [start, 'a', 'c', goal] \n",
    "    c = [start, 'a', 'b', 'd', goal]\n",
    "    d = [start, 'a', 'c', goal] \n",
    "    e = False\n",
    "    f = True\n",
    "    \n",
    "    return a, b, c, d, e, f"
   ]
  },
  {
   "cell_type": "markdown",
   "metadata": {
    "id": "_uecj_VM0l1a"
   },
   "source": [
    "## Chess \n",
    "The remaining questions in this assignment, as well as all the questions in the following assignment, will make use of Python's chess module.\n",
    "\n",
    "If you're not familiar with this, it would probably be beneficial to spend some time going over it before getting started with the rest of the assignment. The official documentation is one place to get started: `https://python-chess.readthedocs.io/en/latest/`\n"
   ]
  },
  {
   "cell_type": "markdown",
   "metadata": {},
   "source": [
    "## The Knight Errant Problem\n",
    "The knight begins their quest in the bottom left-hand corner of the board, the tile 'A1'. Their quest will end when they reach the upper right-hand corner of the board, the tile 'H8'. Along the way, the knight will pass through many other tiles on the board. \n",
    "\n",
    "For each of the following questions, implement the corresponding search algorithm and return the list of tiles visited, in order. In Python's chess module, each tile has an integer id corresponding to it, where `'A1' = 0`, `'A2' = 1`, etc, and they are really just treated as integers by the chess module. Each chess square is equivalent to a number ranging from `0` to `63`, going from left to right, one row at at a time.\n",
    "\n",
    "For example, the knight starting on tile `'A1' = 0` and moving through tiles `'A1' = 0`, `'B3' = 17`, and `'D2' = 11`, in that order, before finally reaching the destination `'F1' = 5` would be represented by the list `[0, 17, 11, 5]`. Please note, this conversion from `A1` to `0` happens automatically, so please just don't be confused if you added a chess Tile to your list and saw it as an integer when you print it out; it is really the same thing.\n",
    "\n",
    "As one final piece of advice, it is not necessary to invent any grand new functions here to help you interface with the chess board. If you have an idea for something and it seems like too much, there may very well be a built-in chess module function that can do it for you. Please have a look before diving in head-first.\n",
    "\n",
    "A function to check whether a given board meets the goal condition is provided here for you below:"
   ]
  },
  {
   "cell_type": "code",
   "execution_count": 25,
   "metadata": {},
   "outputs": [
    {
     "name": "stdout",
     "output_type": "stream",
     "text": [
      "Requirement already satisfied: python-chess in /Library/Frameworks/Python.framework/Versions/3.10/lib/python3.10/site-packages (1.999)\n",
      "Requirement already satisfied: chess<2,>=1 in /Library/Frameworks/Python.framework/Versions/3.10/lib/python3.10/site-packages (from python-chess) (1.11.1)\n"
     ]
    }
   ],
   "source": [
    "!pip3 install python-chess\n"
   ]
  },
  {
   "cell_type": "code",
   "execution_count": 12,
   "metadata": {},
   "outputs": [],
   "source": [
    "import chess\n",
    "\n",
    "def goal_reached(board: chess.Board, goal_position: chess.Square):\n",
    "    \"\"\"\n",
    "    This function informs us as to whether the goal condition has been met during our search\n",
    "\n",
    "    Parameters:\n",
    "    - board: the chess board that the knight is moving upon\n",
    "\n",
    "    Returns:\n",
    "    - True: if the knight is on the destination tile 'H8'\n",
    "    - False: otherwise\n",
    "    \"\"\"\n",
    "    p = board.piece_at(goal_position)\n",
    "    return p and p.piece_type == chess.KNIGHT and p.color == chess.WHITE"
   ]
  },
  {
   "cell_type": "markdown",
   "metadata": {},
   "source": [
    "## Q3\n",
    "Implement the **Breadth-First Search** (BFS) algorithm to find the order of **expanded** tiles (not the final path) for the the Knight Errant Problem.\n",
    "\n",
    "Break ties in the order given by `board.legal_moves`. Please give your answer in a form similar to this example: `[0, 31, 15, ..., 63]`"
   ]
  },
  {
   "cell_type": "code",
   "execution_count": 27,
   "metadata": {},
   "outputs": [],
   "source": [
    "def BFS(board: chess.Board, goal_position: chess.Square):\n",
    "    \"\"\"\n",
    "    This function implements the breath first search algorithm\n",
    "    \n",
    "    Parameters:\n",
    "    - board: the chess board that the knight is moving upon\n",
    "    \n",
    "    Returns:\n",
    "    A list containing the visited tile values in the order they were visited with starting tile\n",
    "    always being the first tile and the goal tile always being the last tile\n",
    "    \"\"\"\n",
    "    visited_nodes_in_order = []\n",
    "    \n",
    "    # YOUR CODE HERE\n",
    "    #raise NotImplementedError()\n",
    "\n",
    "    # Initial BFS queue \n",
    "    # Starting position\n",
    "    # Queue for BFS, store tuples (current square, move path)\n",
    "    q = [(chess.A1, [])] \n",
    "\n",
    "    # Set to track visited squares\n",
    "    visted_sqs = {chess.A1}\n",
    "\n",
    "    while q:\n",
    "        # Dequeue the first element\n",
    "        current_sq, path = q.pop(0)\n",
    "\n",
    "        # set current square as visited\n",
    "        visited_nodes_in_order.append(current_sq)\n",
    "\n",
    "        # place the knight on current square\n",
    "        board.set_piece_at(current_sq, chess.Piece(chess.KNIGHT, chess.WHITE))\n",
    "\n",
    "        if goal_reached(board, goal_position):  \n",
    "            break\n",
    "\n",
    "        # Generate all legal knight moves\n",
    "        for move in board.legal_moves:\n",
    "\n",
    "            # Get the destination square\n",
    "            new_sq = move.to_square\n",
    "\n",
    "            #if this square hasn't been visited\n",
    "            if new_sq not in visted_sqs:\n",
    "                visted_sqs.add(new_sq)\n",
    "\n",
    "                # enqueue new position\n",
    "                q.append((new_sq, path +[new_sq]))\n",
    "\n",
    "        # Remove the knight\n",
    "        board.remove_piece_at(current_sq)\n",
    "\n",
    "\n",
    "\n",
    "\n",
    "    \n",
    "    \n",
    "    return visited_nodes_in_order\n"
   ]
  },
  {
   "cell_type": "code",
   "execution_count": 28,
   "metadata": {},
   "outputs": [
    {
     "name": "stdout",
     "output_type": "stream",
     "text": [
      ". . . . . . . .\n",
      ". . . . . . . .\n",
      ". . . . . . . .\n",
      ". . . . . . . .\n",
      ". . . . . . . .\n",
      ". . . . . . . .\n",
      ". . . . . . . .\n",
      "N . . . . . . .\n",
      "[0, 17, 10, 34, 32, 27, 11, 2, 25, 20, 16, 4, 51, 49, 44, 40, 28, 24, 19, 42, 26, 37, 33, 21, 12, 5, 1, 8, 35, 30, 14, 3, 61, 57, 45, 41, 36, 59, 43, 54, 50, 38, 29, 22, 18, 13, 9, 52, 48, 47, 31, 15, 6, 55, 46, 62, 60, 39, 58, 56, 53, 23, 7, 63]\n"
     ]
    }
   ],
   "source": [
    "test_board = chess.Board(\"8/8/8/8/8/8/8/N7\")\n",
    "test_goal = chess.H8\n",
    "print(test_board)\n",
    "\n",
    "q3 = BFS(test_board, test_goal)\n",
    "print(q3)"
   ]
  },
  {
   "cell_type": "markdown",
   "metadata": {},
   "source": [
    "## Q4\n",
    "Implement the **Depth-First Search** (DFS) algorithm to find the order of **expanded** tiles (not the final path) for the the Knight Errant Problem.\n",
    "\n",
    "Break ties in the order given by `board.legal_moves`. Please give your answer in a form similar to this example: `[0, 31, 15, ..., 63]`"
   ]
  },
  {
   "cell_type": "code",
   "execution_count": 5,
   "metadata": {},
   "outputs": [],
   "source": [
    "def DFS(board: chess.Board, goal_position: chess.Square):\n",
    "    \"\"\"\n",
    "    This function implements the depth first search algorithm\n",
    "    \n",
    "    Parameters:\n",
    "    - board: the chess board that the knight is moving upon\n",
    "    \n",
    "    Returns:\n",
    "    A list containing the visited tile values in the order they were visited with starting tile\n",
    "    always being the first tile and the goal tile always being the last tile\n",
    "    \"\"\"\n",
    "    visited_nodes_in_order = []\n",
    "    \n",
    "    # YOUR CODE HERE\n",
    "    raise NotImplementedError()\n",
    "    \n",
    "    return visited_nodes_in_order\n"
   ]
  },
  {
   "cell_type": "code",
   "execution_count": null,
   "metadata": {},
   "outputs": [],
   "source": [
    "test_board = chess.Board(\"8/8/8/8/8/8/8/N7\")\n",
    "test_goal = chess.H8\n",
    "print(test_board)\n",
    "\n",
    "q4 = DFS(test_board, test_goal)\n",
    "print(q4)"
   ]
  },
  {
   "cell_type": "markdown",
   "metadata": {
    "id": "LM0yg5nnW_cx"
   },
   "source": [
    "## Q5\n",
    "Implement the **A* Search** (Textbook Section 3.5.2) algorithm to find the **final path found** for the Knight Errant Problem.\n",
    "\n",
    "#### A* Search\n",
    "---\n",
    "The most widely known form of best-first search is called **A∗ search** (pronounced \"A-star search\"). It evaluates nodes by combining $g(n)$, the cost to reach the node, and $h(n)$, the cost to get from the node to the goal:\n",
    "\n",
    "\\begin{equation*}\n",
    "f(n) = g(n) + h(n) .\n",
    "\\end{equation*}\n",
    "\n",
    "Since $g(n)$ gives the path cost from the start node to node $n$, and $h(n)$ is the estimated cost of the cheapest path from n to the goal, we have\n",
    "\n",
    "\n",
    "$f(n)$= estimated cost of the cheapest solution through $n$ .\n",
    "\n",
    "**NOTE:**\n",
    "- If two positions are considered equally good choices, take the node that appears first in board.legal_moves\n",
    "- You may also find the built-in function `chess.square_knight_distance(a, b)` useful here\n"
   ]
  },
  {
   "cell_type": "code",
   "execution_count": 6,
   "metadata": {},
   "outputs": [],
   "source": [
    "def a_star_search(board: chess.Board, goal_position: chess.Square):\n",
    "    \"\"\"\n",
    "    This function implements the A* search algorithm\n",
    "\n",
    "    Parameters:\n",
    "    - board: the chess board that the knight is moving upon\n",
    "\n",
    "    Returns:\n",
    "    A list containing the final path returned by A*, starting with the start tile's ID and ending with the goal tile's ID.\n",
    "    \"\"\"\n",
    "    optimal_path = []\n",
    "    \n",
    "    # YOUR CODE HERE\n",
    "    raise NotImplementedError()\n",
    "    \n",
    "    return optimal_path\n"
   ]
  },
  {
   "cell_type": "code",
   "execution_count": null,
   "metadata": {},
   "outputs": [],
   "source": [
    "test_board = chess.Board(\"8/8/8/8/8/8/8/N7\")\n",
    "test_goal = chess.H8\n",
    "print(test_board)\n",
    "\n",
    "q5 = a_star_search(test_board, test_goal)\n",
    "print(q5)\n"
   ]
  }
 ],
 "metadata": {
  "colab": {
   "collapsed_sections": [
    "Hc-OUgRxWIPM"
   ],
   "provenance": []
  },
  "kernelspec": {
   "display_name": "Python 3 (ipykernel)",
   "language": "python",
   "name": "python3"
  },
  "language_info": {
   "codemirror_mode": {
    "name": "ipython",
    "version": 3
   },
   "file_extension": ".py",
   "mimetype": "text/x-python",
   "name": "python",
   "nbconvert_exporter": "python",
   "pygments_lexer": "ipython3",
   "version": "3.10.10"
  }
 },
 "nbformat": 4,
 "nbformat_minor": 1
}
